{
  "nbformat": 4,
  "nbformat_minor": 0,
  "metadata": {
    "colab": {
      "provenance": [],
      "authorship_tag": "ABX9TyNoIWEJ7HKBqNnmvDfJ6zIC",
      "include_colab_link": true
    },
    "kernelspec": {
      "name": "python3",
      "display_name": "Python 3"
    },
    "language_info": {
      "name": "python"
    }
  },
  "cells": [
    {
      "cell_type": "markdown",
      "metadata": {
        "id": "view-in-github",
        "colab_type": "text"
      },
      "source": [
        "<a href=\"https://colab.research.google.com/github/damianmtz98/ClasesAnalisisDeDatos/blob/main/ClasePython4.ipynb\" target=\"_parent\"><img src=\"https://colab.research.google.com/assets/colab-badge.svg\" alt=\"Open In Colab\"/></a>"
      ]
    },
    {
      "cell_type": "markdown",
      "source": [
        "# **Modelos de Regresión Lineal para Predicción**\n",
        "\n",
        "Los modelos de regresión lineal son una técnica estadística utilizada para predecir una variable numérica a partir de una o más variables predictoras. La idea principal es encontrar una relación lineal que mejor se ajuste a los datos disponibles. En una regresión lineal simple, tienes una variable predictora, mientras que en una regresión lineal múltiple, tienes múltiples variables predictoras.\n",
        "\n",
        "Los modelos de regresión lineal se aplican en una amplia gama de campos, como economía, ciencias sociales, medicina y más. Algunos ejemplos de aplicaciones reales incluyen predecir el precio de una vivienda basado en sus características, estimar la demanda de un producto en función de variables de marketing y pronosticar el rendimiento académico de los estudiantes utilizando sus calificaciones previas.\n",
        "\n",
        "En Python, puedes utilizar la librería scikit-learn para aplicar modelos de regresión lineal. Aquí hay un ejemplo de cómo ajustar un modelo de regresión lineal simple:\n",
        "\n",
        "\n",
        "\n",
        "\n",
        "\n",
        "\n"
      ],
      "metadata": {
        "id": "8sQzRBUbtb2U"
      }
    },
    {
      "cell_type": "code",
      "source": [
        "from sklearn.linear_model import LinearRegression\n",
        "import numpy as np"
      ],
      "metadata": {
        "id": "q3VxrwS3BupD"
      },
      "execution_count": 4,
      "outputs": []
    },
    {
      "cell_type": "markdown",
      "source": [
        "*   Importamos la librería scikit-learn (sklearn) y\n",
        "específicamente la clase LinearRegression. Esto nos permite usar las funciones necesarias para crear un modelo de regresión lineal.\n",
        "\n"
      ],
      "metadata": {
        "id": "NYyOkSQtBvWd"
      }
    },
    {
      "cell_type": "code",
      "source": [
        "# Datos de ejemplo\n",
        "X = np.array([1, 2, 3, 4, 5]).reshape(-1,1)\n",
        "y = np.array([2, 4, 5, 4, 5])"
      ],
      "metadata": {
        "id": "i7qBcTFVCBxz"
      },
      "execution_count": 5,
      "outputs": []
    },
    {
      "cell_type": "markdown",
      "source": [
        "* Creación de datos de ejemplo: Creamos datos de ejemplo para demostrar el\n",
        "funcionamiento del modelo. X representa las variables predictoras (en este caso, una secuencia de números del 1 al 5) y y representa la variable dependiente que deseamos predecir.\n",
        "\n",
        "NOTA: reshape(-1, 1) se usa para cambiar la forma de un array en NumPy, convirtiéndolo de un array unidimensional a uno bidimensional con una sola columna. Esto es comúnmente necesario para preparar los datos de entrada en el formato adecuado para modelos de regresión lineal en Python."
      ],
      "metadata": {
        "id": "ntOtnyAwCRv5"
      }
    },
    {
      "cell_type": "code",
      "source": [
        "# Crear y ajustar el modelo de regresión lineal\n",
        "modelo = LinearRegression()\n",
        "modelo.fit(X, y)"
      ],
      "metadata": {
        "id": "-86zNqNfCawk"
      },
      "execution_count": null,
      "outputs": []
    },
    {
      "cell_type": "markdown",
      "source": [
        "* Creación del modelo de regresión lineal: Creamos una instancia del modelo de regresión lineal utilizando LinearRegression() y la asignamos a la variable modelo.\n",
        "* Ajuste del modelo: Utilizamos el método fit(X, y) para ajustar el modelo a los datos. Esto significa que el modelo encontrará la mejor línea recta que se ajuste a los puntos de datos representados por X e y. La línea recta representa la relación lineal entre las variables predictoras y la variable dependiente."
      ],
      "metadata": {
        "id": "G8VmiX86CbCl"
      }
    },
    {
      "cell_type": "code",
      "execution_count": 7,
      "metadata": {
        "colab": {
          "base_uri": "https://localhost:8080/"
        },
        "id": "cloLVElTn4uF",
        "outputId": "8feca130-f7b7-48fc-bc02-6db76f1ec1b9"
      },
      "outputs": [
        {
          "output_type": "stream",
          "name": "stdout",
          "text": [
            "Predicción: [5.8]\n"
          ]
        }
      ],
      "source": [
        "# Realizar una predicción\n",
        "prediccion = modelo.predict(np.array([[6]]))\n",
        "print(\"Predicción:\", prediccion)"
      ]
    },
    {
      "cell_type": "markdown",
      "source": [
        "Hasta este punto, hemos creado y ajustado el modelo de regresión lineal. Ahora, el modelo tiene la capacidad de hacer predicciones.\n",
        "\n",
        "* Realizar una predicción: Podemos usar el modelo ajustado para hacer predicciones. En este ejemplo, estamos haciendo una predicción para un valor de X igual a 6:\n",
        "El método predict(X) toma una matriz de valores de X (en este caso, un solo valor) y devuelve una predicción de y. La predicción se almacena en la variable prediccion.\n",
        "\n",
        "La predicción que obtuviste es [5.8]. Esto significa que, según el modelo de regresión lineal ajustado, si X es igual a 6, la predicción para (y) es de aproximadamente 5.8. En otras palabras, el modelo estima que el valor de la variable dependiente (y) será aproximadamente 5.8 cuando la variable predictora (X) sea igual a 6, de acuerdo con la relación lineal que ha aprendido a partir de los datos de entrenamiento."
      ],
      "metadata": {
        "id": "tO4a8OqMv0-6"
      }
    },
    {
      "cell_type": "markdown",
      "source": [
        "# **Random Forest para Clasificación**\n",
        "\n",
        "Random Forest es un algoritmo de aprendizaje automático que se basa en un conjunto de árboles de decisión. Cada árbol en el conjunto vota por una clase en un problema de clasificación o produce una predicción en un problema de regresión. El resultado final se obtiene por mayoría de votos (clasificación) o promediando las predicciones (regresión) de los árboles. Esto hace que Random Forest sea robusto y capaz de manejar problemas de clasificación y regresión de manera eficaz.\n",
        "\n",
        "Random Forest se aplica en una variedad de escenarios del mundo real. Por ejemplo, se utiliza en la detección de spam en correos electrónicos para clasificar si un correo es legítimo o no, en la clasificación de imágenes médicas para el diagnóstico de enfermedades, en la predicción de la satisfacción del cliente en el comercio electrónico basada en datos de comportamiento del usuario, y en la detección de fraudes en transacciones financieras para identificar transacciones sospechosas.\n",
        "\n",
        "En Python, puedes utilizar la librería scikit-learn para implementar Random Forest. La clase RandomForestClassifier de scikit-learn se usa para problemas de clasificación. Debes cargar tus datos, dividirlos en conjuntos de entrenamiento y prueba, crear un modelo de Random Forest utilizando esta clase y entrenar el modelo con los datos de entrenamiento. Luego, puedes usar el modelo para hacer predicciones en el conjunto de prueba y evaluar su rendimiento utilizando métricas como la precisión."
      ],
      "metadata": {
        "id": "matH13dd__54"
      }
    },
    {
      "cell_type": "code",
      "source": [
        "from sklearn.ensemble import RandomForestClassifier\n",
        "from sklearn.datasets import load_iris\n",
        "from sklearn.model_selection import train_test_split\n",
        "from sklearn.metrics import accuracy_score\n",
        "\n",
        "# Cargar el conjunto de datos Iris como ejemplo\n",
        "iris = load_iris()\n",
        "X, y = iris.data, iris.target\n"
      ],
      "metadata": {
        "id": "vLQB5AgrwUkv"
      },
      "execution_count": 8,
      "outputs": []
    },
    {
      "cell_type": "markdown",
      "source": [
        "* Importación de librerías: En la primera línea, importamos las librerías y clases necesarias. RandomForestClassifier es la clase que utilizaremos para crear un modelo de Random Forest para clasificación. También importamos otras clases y funciones necesarias de scikit-learn para cargar datos, dividirlos en conjuntos de entrenamiento y prueba, y evaluar el rendimiento del modelo.\n",
        "\n",
        "* Cargar datos de ejemplo: Utilizamos el conjunto de datos Iris como ejemplo. iris.data contiene las características (variables predictoras), y iris.target contiene las etiquetas de clase (variable objetivo). Estos datos se utilizan comúnmente en ejemplos y tutoriales de aprendizaje automático."
      ],
      "metadata": {
        "id": "4RGvAeriD-UT"
      }
    },
    {
      "cell_type": "code",
      "source": [
        "# Dividir el conjunto de datos en entrenamiento y prueba\n",
        "X_train, X_test, y_train, y_test = train_test_split(X, y, test_size=0.2, random_state=42)\n"
      ],
      "metadata": {
        "id": "CFhj7sYpEiFS"
      },
      "execution_count": 9,
      "outputs": []
    },
    {
      "cell_type": "markdown",
      "source": [
        "* División de datos: Utilizamos la función train_test_split para dividir los datos en conjuntos de entrenamiento y prueba. Esto es importante para evaluar el rendimiento del modelo. En este ejemplo, el 80% de los datos se utilizan para entrenamiento (X_train y y_train), y el 20% restante se utiliza para prueba (X_test y y_test).\n",
        "\n",
        "NOTA: Los datos se dividen en conjuntos de entrenamiento y pruebas para medir cuán bien un modelo de aprendizaje automático se desempeña en datos no vistos, evitar el sobreajuste y seleccionar el mejor modelo. Esto simula cómo funcionará en situaciones reales."
      ],
      "metadata": {
        "id": "sXL1Mom2EjCF"
      }
    },
    {
      "cell_type": "code",
      "source": [
        "# Crear y entrenar el modelo de Random Forest\n",
        "modelo_rf = RandomForestClassifier(n_estimators=100, random_state=42)\n",
        "modelo_rf.fit(X_train, y_train)\n"
      ],
      "metadata": {
        "colab": {
          "base_uri": "https://localhost:8080/",
          "height": 75
        },
        "id": "IC1oYBWdFNHv",
        "outputId": "60f17c77-d076-493d-abe8-c62572a5df6d"
      },
      "execution_count": 10,
      "outputs": [
        {
          "output_type": "execute_result",
          "data": {
            "text/plain": [
              "RandomForestClassifier(random_state=42)"
            ],
            "text/html": [
              "<style>#sk-container-id-2 {color: black;background-color: white;}#sk-container-id-2 pre{padding: 0;}#sk-container-id-2 div.sk-toggleable {background-color: white;}#sk-container-id-2 label.sk-toggleable__label {cursor: pointer;display: block;width: 100%;margin-bottom: 0;padding: 0.3em;box-sizing: border-box;text-align: center;}#sk-container-id-2 label.sk-toggleable__label-arrow:before {content: \"▸\";float: left;margin-right: 0.25em;color: #696969;}#sk-container-id-2 label.sk-toggleable__label-arrow:hover:before {color: black;}#sk-container-id-2 div.sk-estimator:hover label.sk-toggleable__label-arrow:before {color: black;}#sk-container-id-2 div.sk-toggleable__content {max-height: 0;max-width: 0;overflow: hidden;text-align: left;background-color: #f0f8ff;}#sk-container-id-2 div.sk-toggleable__content pre {margin: 0.2em;color: black;border-radius: 0.25em;background-color: #f0f8ff;}#sk-container-id-2 input.sk-toggleable__control:checked~div.sk-toggleable__content {max-height: 200px;max-width: 100%;overflow: auto;}#sk-container-id-2 input.sk-toggleable__control:checked~label.sk-toggleable__label-arrow:before {content: \"▾\";}#sk-container-id-2 div.sk-estimator input.sk-toggleable__control:checked~label.sk-toggleable__label {background-color: #d4ebff;}#sk-container-id-2 div.sk-label input.sk-toggleable__control:checked~label.sk-toggleable__label {background-color: #d4ebff;}#sk-container-id-2 input.sk-hidden--visually {border: 0;clip: rect(1px 1px 1px 1px);clip: rect(1px, 1px, 1px, 1px);height: 1px;margin: -1px;overflow: hidden;padding: 0;position: absolute;width: 1px;}#sk-container-id-2 div.sk-estimator {font-family: monospace;background-color: #f0f8ff;border: 1px dotted black;border-radius: 0.25em;box-sizing: border-box;margin-bottom: 0.5em;}#sk-container-id-2 div.sk-estimator:hover {background-color: #d4ebff;}#sk-container-id-2 div.sk-parallel-item::after {content: \"\";width: 100%;border-bottom: 1px solid gray;flex-grow: 1;}#sk-container-id-2 div.sk-label:hover label.sk-toggleable__label {background-color: #d4ebff;}#sk-container-id-2 div.sk-serial::before {content: \"\";position: absolute;border-left: 1px solid gray;box-sizing: border-box;top: 0;bottom: 0;left: 50%;z-index: 0;}#sk-container-id-2 div.sk-serial {display: flex;flex-direction: column;align-items: center;background-color: white;padding-right: 0.2em;padding-left: 0.2em;position: relative;}#sk-container-id-2 div.sk-item {position: relative;z-index: 1;}#sk-container-id-2 div.sk-parallel {display: flex;align-items: stretch;justify-content: center;background-color: white;position: relative;}#sk-container-id-2 div.sk-item::before, #sk-container-id-2 div.sk-parallel-item::before {content: \"\";position: absolute;border-left: 1px solid gray;box-sizing: border-box;top: 0;bottom: 0;left: 50%;z-index: -1;}#sk-container-id-2 div.sk-parallel-item {display: flex;flex-direction: column;z-index: 1;position: relative;background-color: white;}#sk-container-id-2 div.sk-parallel-item:first-child::after {align-self: flex-end;width: 50%;}#sk-container-id-2 div.sk-parallel-item:last-child::after {align-self: flex-start;width: 50%;}#sk-container-id-2 div.sk-parallel-item:only-child::after {width: 0;}#sk-container-id-2 div.sk-dashed-wrapped {border: 1px dashed gray;margin: 0 0.4em 0.5em 0.4em;box-sizing: border-box;padding-bottom: 0.4em;background-color: white;}#sk-container-id-2 div.sk-label label {font-family: monospace;font-weight: bold;display: inline-block;line-height: 1.2em;}#sk-container-id-2 div.sk-label-container {text-align: center;}#sk-container-id-2 div.sk-container {/* jupyter's `normalize.less` sets `[hidden] { display: none; }` but bootstrap.min.css set `[hidden] { display: none !important; }` so we also need the `!important` here to be able to override the default hidden behavior on the sphinx rendered scikit-learn.org. See: https://github.com/scikit-learn/scikit-learn/issues/21755 */display: inline-block !important;position: relative;}#sk-container-id-2 div.sk-text-repr-fallback {display: none;}</style><div id=\"sk-container-id-2\" class=\"sk-top-container\"><div class=\"sk-text-repr-fallback\"><pre>RandomForestClassifier(random_state=42)</pre><b>In a Jupyter environment, please rerun this cell to show the HTML representation or trust the notebook. <br />On GitHub, the HTML representation is unable to render, please try loading this page with nbviewer.org.</b></div><div class=\"sk-container\" hidden><div class=\"sk-item\"><div class=\"sk-estimator sk-toggleable\"><input class=\"sk-toggleable__control sk-hidden--visually\" id=\"sk-estimator-id-2\" type=\"checkbox\" checked><label for=\"sk-estimator-id-2\" class=\"sk-toggleable__label sk-toggleable__label-arrow\">RandomForestClassifier</label><div class=\"sk-toggleable__content\"><pre>RandomForestClassifier(random_state=42)</pre></div></div></div></div></div>"
            ]
          },
          "metadata": {},
          "execution_count": 10
        }
      ]
    },
    {
      "cell_type": "markdown",
      "source": [
        "* Creación y entrenamiento del modelo: Creamos una instancia del modelo de Random Forest utilizando RandomForestClassifier y lo asignamos a la variable modelo_rf. El parámetro n_estimators indica el número de árboles en el bosque. En este caso, hemos configurado n_estimators en 100 para usar 100 árboles. Luego, ajustamos el modelo a los datos de entrenamiento llamando al método fit()."
      ],
      "metadata": {
        "id": "v6bgw_b5FNWJ"
      }
    },
    {
      "cell_type": "code",
      "source": [
        "# Realizar predicciones en el conjunto de prueba\n",
        "predicciones = modelo_rf.predict(X_test)\n"
      ],
      "metadata": {
        "id": "H4M3KBWJFWoF"
      },
      "execution_count": 11,
      "outputs": []
    },
    {
      "cell_type": "markdown",
      "source": [
        "* Realización de predicciones: Usamos el modelo entrenado para hacer predicciones en el conjunto de prueba (X_test) llamando al método predict(). Esto nos proporciona las etiquetas predichas para cada observación en el conjunto de prueba."
      ],
      "metadata": {
        "id": "2_UL0yt4FWAb"
      }
    },
    {
      "cell_type": "code",
      "source": [
        "# Calcular la precisión del modelo\n",
        "precisión = accuracy_score(y_test, predicciones)\n",
        "print(\"Precisión del modelo:\", precisión)\n"
      ],
      "metadata": {
        "colab": {
          "base_uri": "https://localhost:8080/"
        },
        "id": "9ORU8do0FkHc",
        "outputId": "e09746c9-ac00-407a-9a65-1010e6cbe3c8"
      },
      "execution_count": 12,
      "outputs": [
        {
          "output_type": "stream",
          "name": "stdout",
          "text": [
            "Precisión del modelo: 1.0\n"
          ]
        }
      ]
    },
    {
      "cell_type": "markdown",
      "source": [
        "* Evaluación del modelo: Calculamos la precisión del modelo comparando las etiquetas reales en y_test con las etiquetas predichas en predicciones. La precisión se calcula utilizando la función accuracy_score() de scikit-learn. Luego, imprimimos la precisión del modelo en la pantalla.\n"
      ],
      "metadata": {
        "id": "taxFOjdAFjiy"
      }
    },
    {
      "cell_type": "markdown",
      "source": [
        "Una precisión del modelo de 1.0 significa que el modelo clasificó correctamente todas las muestras en el conjunto de prueba. Esto es un rendimiento perfecto, lo que indica que el modelo de Random Forest que entrenaste en el conjunto de datos Iris fue capaz de hacer predicciones precisas para todas las muestras en el conjunto de prueba. Una precisión del 1.0 es un resultado excepcional y sugiere que el modelo es altamente efectivo en la clasificación de los datos de prueba.\n"
      ],
      "metadata": {
        "id": "lEw4ExH2F-8g"
      }
    }
  ]
}