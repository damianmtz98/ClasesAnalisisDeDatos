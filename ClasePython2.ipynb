{
  "nbformat": 4,
  "nbformat_minor": 0,
  "metadata": {
    "colab": {
      "provenance": [],
      "authorship_tag": "ABX9TyNjh9PK8ZTjK2oxgikBZSFF",
      "include_colab_link": true
    },
    "kernelspec": {
      "name": "python3",
      "display_name": "Python 3"
    },
    "language_info": {
      "name": "python"
    }
  },
  "cells": [
    {
      "cell_type": "markdown",
      "metadata": {
        "id": "view-in-github",
        "colab_type": "text"
      },
      "source": [
        "<a href=\"https://colab.research.google.com/github/damianmtz98/ClasesAnalisisDeDatos/blob/main/ClasePython2.ipynb\" target=\"_parent\"><img src=\"https://colab.research.google.com/assets/colab-badge.svg\" alt=\"Open In Colab\"/></a>"
      ]
    },
    {
      "cell_type": "markdown",
      "source": [
        "## **Variables y Asignaciones**\n",
        "\n",
        "\n",
        "Las variables son nombres utilizados para almacenar datos en la memoria de un programa. La asignación es el proceso de dar un valor a una variable. En Python, no es necesario declarar el tipo de variable, ya que el lenguaje es dinámicamente tipado."
      ],
      "metadata": {
        "id": "xs2Vzok2AMP9"
      }
    },
    {
      "cell_type": "code",
      "source": [
        "# Declaración y asignación de una variable\n",
        "x = 10\n",
        "y = 30\n",
        "# Imprimir el valor de la variable\n",
        "print(x,y)\n"
      ],
      "metadata": {
        "id": "5-J45r6dZE9b",
        "colab": {
          "base_uri": "https://localhost:8080/"
        },
        "outputId": "6c6fa5d0-a7c3-4ccc-c819-58854a9a765e"
      },
      "execution_count": null,
      "outputs": [
        {
          "output_type": "stream",
          "name": "stdout",
          "text": [
            "10 30\n"
          ]
        }
      ]
    },
    {
      "cell_type": "code",
      "source": [
        "x * y"
      ],
      "metadata": {
        "colab": {
          "base_uri": "https://localhost:8080/"
        },
        "id": "pFilYIvVAVRX",
        "outputId": "97cde21a-11a7-44e0-be78-5f5d5769b8ac"
      },
      "execution_count": null,
      "outputs": [
        {
          "output_type": "execute_result",
          "data": {
            "text/plain": [
              "300"
            ]
          },
          "metadata": {},
          "execution_count": 26
        }
      ]
    },
    {
      "cell_type": "markdown",
      "source": [
        "## **Ejecutar y Desplegar**\n",
        "\n",
        "- Ejecutar: se refiere a iniciar la ejecución de un programa o código.\n",
        "- Desplegar: significa mostrar información en la pantalla o en la salida estándar."
      ],
      "metadata": {
        "id": "tVy16ZjhCUAW"
      }
    },
    {
      "cell_type": "markdown",
      "source": [
        "## **Errores Comunes**\n",
        "\n",
        "Los errores son comunes en la programación y pueden dividirse en tres categorías principales: errores de sintaxis, errores de lógica y errores de tiempo de ejecución. Es importante identificar y corregir estos errores para que el programa funcione correctamente."
      ],
      "metadata": {
        "id": "ITHMBsb3CumW"
      }
    },
    {
      "cell_type": "markdown",
      "source": [
        "## **Presentación de Proyecto Real de Análisis de Datos**\n",
        "\n",
        "Un proyecto de análisis de datos implica recopilar, procesar y analizar datos con el objetivo de obtener información valiosa y tomar decisiones informadas. En esta clase, presentaremos un proyecto real para comprender cómo se aplican las técnicas de análisis de datos en situaciones del mundo real.\n",
        "\n",
        "## **Utilidad, Valor e Implicaciones**\n",
        "\n",
        "- Utilidad: El análisis de datos es útil para extraer información, detectar patrones y tomar decisiones basadas en datos en una variedad de campos, desde negocios hasta investigación científica.\n",
        "- Valor: Los insights obtenidos del análisis de datos pueden tener un gran valor, ya que pueden llevar a mejoras en la eficiencia, toma de decisiones más acertadas y ventajas competitivas.\n",
        "- Implicaciones: La toma de decisiones basada en datos tiene implicaciones éticas y sociales importantes. Es crucial considerar cómo se utilizan los datos y cómo impactan a las personas y a la sociedad.\n",
        "\n",
        "## **Automatización de Procesos**\n",
        "\n",
        "La automatización de procesos se refiere a la utilización de herramientas y técnicas para realizar tareas repetitivas o manuales de manera automática. En el análisis de datos, la automatización puede ser aplicada para agilizar la recolección, limpieza, procesamiento y presentación de datos.\n",
        "\n",
        "## **Fases del Análisis de Datos**\n",
        "\n",
        "\n",
        "El proceso de análisis de datos se divide generalmente en cuatro fases clave que ayudan a comprender, procesar y extraer información de los datos:\n",
        "\n",
        "***Depuración de Datos:***\n",
        "\n",
        "En esta fase, se identifican y corrigen errores y valores atípicos en los datos. Esto es fundamental para asegurarse de que los datos sean confiables y precisos.\n",
        "\n",
        "***Estructuración de Datos:***\n",
        "\n",
        "Los datos se organizan y transforman en una forma que sea adecuada para el análisis. Esto puede incluir la creación de tablas, la normalización de datos y la gestión de formatos.\n",
        "\n",
        "***Visualización de Datos:***\n",
        "\n",
        "La visualización de datos implica representar la información de manera gráfica. Gráficos y visualizaciones facilitan la comprensión de patrones y tendencias en los datos.\n",
        "\n",
        "***Desarrollo de Modelos:***\n",
        "\n",
        "En esta fase, se aplican técnicas de modelado para obtener información adicional de los datos. Esto puede incluir el uso de algoritmos de aprendizaje automático para predecir resultados o identificar patrones."
      ],
      "metadata": {
        "id": "pgYm5bNdEbsQ"
      }
    },
    {
      "cell_type": "markdown",
      "source": [
        "## **Operaciones Aritméticas**\n",
        "\n",
        "Las operaciones aritméticas son acciones matemáticas básicas que puedes realizar en Python para trabajar con números. Estas operaciones incluyen suma, resta, multiplicación, división, módulo y potenciación."
      ],
      "metadata": {
        "id": "LN48H8P-PMvR"
      }
    },
    {
      "cell_type": "code",
      "source": [
        "# Definimos dos variables a y b\n",
        "a = 10\n",
        "b = 5\n",
        "\n",
        "# Realizamos operaciones aritméticas\n",
        "suma = a + b  # Suma de a y b\n",
        "resta = a - b  # Resta de a y b\n",
        "multiplicacion = a * b  # Multiplicación de a y b\n",
        "division = a / b  # División de a por b\n",
        "modulo = a % b  # Residuo de a dividido por b\n",
        "potencia = a ** b  # a elevado a la potencia b\n",
        "\n",
        "# Imprimimos los resultados\n",
        "print(\"Suma:\", suma)\n",
        "print(\"Resta:\", resta)\n",
        "print(\"Multiplicación:\", multiplicacion)\n",
        "print(\"División:\", division)\n",
        "print(\"Módulo:\", modulo)\n",
        "print(\"Potencia:\", potencia)\n"
      ],
      "metadata": {
        "colab": {
          "base_uri": "https://localhost:8080/"
        },
        "id": "ogKX-u8IPNMR",
        "outputId": "01f9552f-0a2a-4718-cc97-7ca537a154dc"
      },
      "execution_count": 22,
      "outputs": [
        {
          "output_type": "stream",
          "name": "stdout",
          "text": [
            "Suma: 15\n",
            "Resta: 5\n",
            "Multiplicación: 50\n",
            "División: 2.0\n",
            "Módulo: 0\n",
            "Potencia: 100000\n"
          ]
        }
      ]
    },
    {
      "cell_type": "markdown",
      "source": [
        "## **Uso de Funciones**\n",
        "\n",
        "Las funciones son bloques de código que encapsulan una tarea específica y pueden recibir argumentos (parámetros) y devolver un resultado. Puedes definir tus propias funciones personalizadas o utilizar las funciones integradas en Python."
      ],
      "metadata": {
        "id": "wfi8TkagPNXI"
      }
    },
    {
      "cell_type": "code",
      "source": [
        "# Definimos una función personalizada llamada \"suma\" que toma dos argumentos y devuelve la suma.\n",
        "def suma(a, b):\n",
        "    resultado = a + b\n",
        "    return resultado\n",
        "\n",
        "# Llamamos a la función y almacenamos el resultado en una variable\n",
        "resultado = suma(10, 5)\n",
        "\n",
        "# Imprimimos el resultado\n",
        "print(\"Resultado de la suma:\", resultado)\n"
      ],
      "metadata": {
        "colab": {
          "base_uri": "https://localhost:8080/"
        },
        "id": "7riGz_epPNpt",
        "outputId": "cfe2138a-ce89-4a39-81fb-5d2d19aa93c1"
      },
      "execution_count": 23,
      "outputs": [
        {
          "output_type": "stream",
          "name": "stdout",
          "text": [
            "Resultado de la suma: 15\n"
          ]
        }
      ]
    },
    {
      "cell_type": "markdown",
      "source": [
        "## **Inputs**\n",
        "\n",
        "La función input() se utiliza para obtener datos ingresados por el usuario desde la línea de comandos. Los datos ingresados se almacenan como cadenas (strings) y pueden convertirse a otros tipos de datos según sea necesario."
      ],
      "metadata": {
        "id": "swH1B2KsPm9K"
      }
    },
    {
      "cell_type": "code",
      "source": [
        "# Obtenemos el nombre del usuario\n",
        "nombre = input(\"Ingrese su nombre: \")\n",
        "\n",
        "# Obtenemos la edad del usuario (como cadena)\n",
        "edad_str = input(\"Ingrese su edad: \")\n",
        "\n",
        "# Convertimos la edad a un número entero\n",
        "edad = int(edad_str)\n",
        "\n",
        "# Imprimimos los datos ingresados\n",
        "print(\"Nombre:\", nombre)\n",
        "print(\"Edad:\", edad)\n"
      ],
      "metadata": {
        "colab": {
          "base_uri": "https://localhost:8080/"
        },
        "id": "fvaj9bkYPmc1",
        "outputId": "8957ab47-b1d1-46da-c16d-620258a4ef48"
      },
      "execution_count": 25,
      "outputs": [
        {
          "output_type": "stream",
          "name": "stdout",
          "text": [
            "Ingrese su nombre: damian\n",
            "Ingrese su edad: 28\n",
            "Nombre: damian\n",
            "Edad: 28\n"
          ]
        }
      ]
    },
    {
      "cell_type": "markdown",
      "source": [
        "## **Uso de Cadenas**\n",
        "\n",
        "Las cadenas (strings) son secuencias de caracteres en Python. Puedes realizar una variedad de operaciones en cadenas, como concatenación, extracción de subcadenas y formato."
      ],
      "metadata": {
        "id": "fubFLwbgPyb9"
      }
    },
    {
      "cell_type": "code",
      "source": [
        "# Definimos dos cadenas\n",
        "cadena1 = \"Hola\"\n",
        "cadena2 = \"Mundo\"\n",
        "\n",
        "# Concatenamos las cadenas\n",
        "concatenacion = cadena1 + \" \" + cadena2\n",
        "\n",
        "# Extraemos una subcadena\n",
        "subcadena = cadena1[0:5]\n",
        "\n",
        "# Imprimimos los resultados\n",
        "print(\"Concatenación:\", concatenacion)\n",
        "print(\"Subcadena:\", subcadena)\n"
      ],
      "metadata": {
        "colab": {
          "base_uri": "https://localhost:8080/"
        },
        "id": "T7Oboy2uPysU",
        "outputId": "d2415234-dd49-459d-b4a7-fee8c1ef2114"
      },
      "execution_count": 27,
      "outputs": [
        {
          "output_type": "stream",
          "name": "stdout",
          "text": [
            "Concatenación: Hola Mundo\n",
            "Subcadena: Hola\n"
          ]
        }
      ]
    },
    {
      "cell_type": "markdown",
      "source": [
        "## **Algoritmos y Pseudocódigo**\n",
        "\n",
        "Los algoritmos son conjuntos ordenados de pasos que resuelven un problema. El pseudocódigo es una descripción de alto nivel de un algoritmo que ayuda a planificar y comunicar la lógica del programa antes de escribir el código real.\n",
        "\n",
        "\n",
        "\n",
        "```\n",
        "Inicio\n",
        "  Leer valor\n",
        "  Si valor es mayor que 10 entonces\n",
        "    Imprimir \"El valor es mayor que 10\"\n",
        "  Sino\n",
        "    Imprimir \"El valor es menor o igual a 10\"\n",
        "  Fin Si\n",
        "Fin\n",
        "```\n",
        "En este ejemplo, estamos leyendo un valor y luego usando una estructura de decisión (Si... Sino) para determinar si el valor es mayor que 10 o no, y luego imprimimos un mensaje en consecuencia.\n",
        "\n",
        "\n"
      ],
      "metadata": {
        "id": "kjkeMRTEQFC3"
      }
    },
    {
      "cell_type": "markdown",
      "source": [
        "## **Sentencias IF y Else con Lógica OR y AND**\n",
        "\n",
        "Las sentencias if y else se utilizan para tomar decisiones basadas en condiciones. Los operadores lógicos or y and se utilizan para combinar múltiples condiciones en una sola instrucción.\n",
        "\n",
        "En este ejemplo, estamos evaluando si la edad está dentro del rango de jóvenes adultos (entre 18 y 30 años) usando operadores and y or."
      ],
      "metadata": {
        "id": "Cd_mcls1QRWV"
      }
    },
    {
      "cell_type": "code",
      "source": [
        "# Definimos la edad\n",
        "edad = 20\n",
        "\n",
        "# Evaluamos múltiples condiciones\n",
        "if edad >= 18 and edad <= 30:\n",
        "    print(\"Joven adulto\")\n",
        "elif edad > 30 or edad < 18:\n",
        "    print(\"No eres un joven adulto\")\n",
        "\n"
      ],
      "metadata": {
        "colab": {
          "base_uri": "https://localhost:8080/"
        },
        "id": "-Qg-4aoFQE2Q",
        "outputId": "79c54f6f-f6d9-4e51-ce38-0ecc19b24d0b"
      },
      "execution_count": 28,
      "outputs": [
        {
          "output_type": "stream",
          "name": "stdout",
          "text": [
            "Joven adulto\n"
          ]
        }
      ]
    },
    {
      "cell_type": "markdown",
      "source": [
        "## **Ciclos While y For**\n",
        "\n",
        "Explicación:\n",
        "Los bucles while y for permiten repetir un conjunto de instrucciones. Un bucle while se ejecuta mientras una condición sea verdadera, y un bucle for itera sobre una secuencia (como una lista).\n",
        "\n",
        "En este ejemplo, el bucle for itera sobre una secuencia de números del 0 al 4 e imprime cada número.\n"
      ],
      "metadata": {
        "id": "CkIigucyQnbi"
      }
    },
    {
      "cell_type": "code",
      "source": [
        "# Usamos un ciclo for para iterar sobre una secuencia de números\n",
        "for i in range(5):\n",
        "    print(i)"
      ],
      "metadata": {
        "colab": {
          "base_uri": "https://localhost:8080/"
        },
        "id": "uekFh_aJQntq",
        "outputId": "d0a63541-35a1-4186-edc6-9dd2c48af669"
      },
      "execution_count": 31,
      "outputs": [
        {
          "output_type": "stream",
          "name": "stdout",
          "text": [
            "0\n",
            "1\n",
            "2\n",
            "3\n",
            "4\n"
          ]
        }
      ]
    },
    {
      "cell_type": "markdown",
      "source": [
        "## **Operadores Booleanos en Python:**\n",
        "\n",
        "1-. and (Y): El operador and se utiliza para combinar dos condiciones y devuelve True solo si ambas condiciones son verdaderas. Si al menos una de las condiciones es falsa, el resultado es False."
      ],
      "metadata": {
        "id": "UUXrHTZoUtT7"
      }
    },
    {
      "cell_type": "code",
      "source": [
        "a = True\n",
        "b = False\n",
        "resultadoand = a and b  # Resultado será False\n",
        "resultadoand"
      ],
      "metadata": {
        "colab": {
          "base_uri": "https://localhost:8080/"
        },
        "id": "PlyPtRmNUtgC",
        "outputId": "b07a8196-6781-44e5-f0a7-3350acceb8bf"
      },
      "execution_count": 37,
      "outputs": [
        {
          "output_type": "execute_result",
          "data": {
            "text/plain": [
              "False"
            ]
          },
          "metadata": {},
          "execution_count": 37
        }
      ]
    },
    {
      "cell_type": "markdown",
      "source": [
        "2-. or (O): El operador or se utiliza para combinar dos condiciones y devuelve True si al menos una de las condiciones es verdadera. Si ambas condiciones son falsas, el resultado es False."
      ],
      "metadata": {
        "id": "t6csAG0TUtq-"
      }
    },
    {
      "cell_type": "code",
      "source": [
        "a = True\n",
        "b = False\n",
        "resultadoor = a or b  # Resultado será True\n",
        "resultadoor"
      ],
      "metadata": {
        "colab": {
          "base_uri": "https://localhost:8080/"
        },
        "id": "c_tUVnMXVC3j",
        "outputId": "220d9368-fa28-4c8e-f262-f8d5f7a13fe4"
      },
      "execution_count": 39,
      "outputs": [
        {
          "output_type": "execute_result",
          "data": {
            "text/plain": [
              "True"
            ]
          },
          "metadata": {},
          "execution_count": 39
        }
      ]
    },
    {
      "cell_type": "markdown",
      "source": [
        "3-. not (NO): El operador not se utiliza para negar una condición. Si una condición es verdadera, not la convierte en falsa, y si es falsa, not la convierte en verdadera."
      ],
      "metadata": {
        "id": "jKQPuHwxVEkM"
      }
    },
    {
      "cell_type": "code",
      "source": [
        "a = True\n",
        "resultadonot = not a  # Resultado será False\n",
        "resultadonot"
      ],
      "metadata": {
        "colab": {
          "base_uri": "https://localhost:8080/"
        },
        "id": "pyN8d_ckVE0x",
        "outputId": "087cd530-066d-4e40-e9d0-7e2656498c63"
      },
      "execution_count": 40,
      "outputs": [
        {
          "output_type": "execute_result",
          "data": {
            "text/plain": [
              "False"
            ]
          },
          "metadata": {},
          "execution_count": 40
        }
      ]
    },
    {
      "cell_type": "markdown",
      "source": [
        "Uso de Operadores Booleanos:\n",
        "\n",
        "Los operadores booleanos son ampliamente utilizados en sentencias if, elif y else para tomar decisiones basadas en condiciones. También son útiles en bucles y en la evaluación de expresiones lógicas complejas.\n",
        "\n",
        "En este ejemplo, estamos utilizando el operador and para verificar si la edad está dentro del rango de jóvenes adultos (entre 18 y 30 años)."
      ],
      "metadata": {
        "id": "wqeTGXCaVSXP"
      }
    },
    {
      "cell_type": "code",
      "source": [
        "edad = 25\n",
        "\n",
        "if edad >= 18 and edad <= 30:\n",
        "    print(\"Joven adulto\")\n",
        "else:\n",
        "    print(\"No eres un joven adulto\")\n"
      ],
      "metadata": {
        "colab": {
          "base_uri": "https://localhost:8080/"
        },
        "id": "vBN6_2EZVSo3",
        "outputId": "af430023-8613-4c7e-b03d-b1c2581369b9"
      },
      "execution_count": 41,
      "outputs": [
        {
          "output_type": "stream",
          "name": "stdout",
          "text": [
            "Joven adulto\n"
          ]
        }
      ]
    },
    {
      "cell_type": "markdown",
      "source": [
        "* and (Y): Usado para combinar dos condiciones. Devuelve True si ambas condiciones son verdaderas.\n",
        "\n",
        "Ejemplo: (True and True) devuelve True, mientras que (True and False) devuelve False.\n",
        "\n",
        "* or (O): Usado para combinar dos condiciones. Devuelve True si al menos una de las condiciones es verdadera.\n",
        "\n",
        "Ejemplo: (True or False) devuelve True, mientras que (False or False) devuelve False.\n",
        "\n",
        "* not (NO): Usado para negar una condición. Cambia True a False y False a True.\n",
        "\n",
        "Ejemplo: not True devuelve False, y not False devuelve True."
      ],
      "metadata": {
        "id": "QHLrd6SIWQoA"
      }
    }
  ]
}