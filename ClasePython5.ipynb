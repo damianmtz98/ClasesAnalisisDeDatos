{
  "nbformat": 4,
  "nbformat_minor": 0,
  "metadata": {
    "colab": {
      "provenance": [],
      "authorship_tag": "ABX9TyOmIa23EN2n+GiTBLeO/ed9",
      "include_colab_link": true
    },
    "kernelspec": {
      "name": "python3",
      "display_name": "Python 3"
    },
    "language_info": {
      "name": "python"
    }
  },
  "cells": [
    {
      "cell_type": "markdown",
      "metadata": {
        "id": "view-in-github",
        "colab_type": "text"
      },
      "source": [
        "<a href=\"https://colab.research.google.com/github/damianmtz98/ClasesAnalisisDeDatos/blob/main/ClasePython5.ipynb\" target=\"_parent\"><img src=\"https://colab.research.google.com/assets/colab-badge.svg\" alt=\"Open In Colab\"/></a>"
      ]
    },
    {
      "cell_type": "code",
      "source": [
        "# Cargar librerias"
      ],
      "metadata": {
        "id": "HfhzWzyoMm-C"
      },
      "execution_count": null,
      "outputs": []
    },
    {
      "cell_type": "code",
      "source": [
        "# Leer archivo (df es el nombre que le di a mi variable al momento de leer el archivo tu puedes ponerle como gustes)\n",
        "df = pd.read_csv('')"
      ],
      "metadata": {
        "id": "loipQHZ8Ljhb"
      },
      "execution_count": null,
      "outputs": []
    },
    {
      "cell_type": "code",
      "source": [
        "# Muestra de datos\n",
        "df.head()"
      ],
      "metadata": {
        "id": "RBQAb65BL2IY"
      },
      "execution_count": null,
      "outputs": []
    },
    {
      "cell_type": "code",
      "source": [
        "# Descripcion de datos\n",
        "df.info()"
      ],
      "metadata": {
        "id": "Avie-bxvMBQ2"
      },
      "execution_count": null,
      "outputs": []
    },
    {
      "cell_type": "code",
      "source": [
        "# Numero columnas y datos\n",
        "df.shape"
      ],
      "metadata": {
        "id": "NyC8tU3aMIlx"
      },
      "execution_count": null,
      "outputs": []
    },
    {
      "cell_type": "code",
      "source": [
        "# Eliminar\n",
        "df = df.drop(columns=[''])\n",
        "df.head()"
      ],
      "metadata": {
        "id": "ixrfB9VwMQyd"
      },
      "execution_count": null,
      "outputs": []
    },
    {
      "cell_type": "code",
      "source": [
        "# Filtrar\n",
        "filtro = df[df[''] < ]"
      ],
      "metadata": {
        "id": "RYh-_MBjOyZl"
      },
      "execution_count": null,
      "outputs": []
    },
    {
      "cell_type": "code",
      "source": [
        "# Ordenar\n",
        "ordenado = df.sort_values(by='USD/MXN', ascending= False)"
      ],
      "metadata": {
        "id": "JtTIyr7hO7SD"
      },
      "execution_count": null,
      "outputs": []
    },
    {
      "cell_type": "code",
      "source": [
        "# Promedio\n",
        "promedio = df.groupby('')[''].mean()\n",
        "print(\"Promedio:\")\n",
        "print(promedio)"
      ],
      "metadata": {
        "id": "0XsgFaScO91c"
      },
      "execution_count": null,
      "outputs": []
    }
  ]
}